{
 "cells": [
  {
   "cell_type": "code",
   "execution_count": 35,
   "metadata": {},
   "outputs": [],
   "source": [
    "import pickle\n",
    "import numpy as np\n",
    "import os\n",
    "import cv2\n",
    "import random\n",
    "import matplotlib.pyplot as plt\n",
    "from tensorflow.keras.models import Sequential\n",
    "from tensorflow.keras.layers import Dense, Dropout, Activation, Flatten"
   ]
  },
  {
   "cell_type": "code",
   "execution_count": 21,
   "metadata": {},
   "outputs": [],
   "source": [
    "data_dir = r\"C:\\Users\\Rosana\\Documents\\DataSets\\datas\\train\"\n",
    "categories = [\"fundusImage\",\"other\"]"
   ]
  },
  {
   "cell_type": "code",
   "execution_count": 36,
   "metadata": {},
   "outputs": [],
   "source": [
    "img_size = 256\n",
    "\n",
    "def create_training_data():\n",
    "    for category in categories:\n",
    "        path = os.path.join(data_dir, category)\n",
    "        class_num = categories.index(category)\n",
    "        for img in os.listdir(path):\n",
    "            try:\n",
    "                img_array = cv2.imread(os.path.join(path, img), cv2.IMREAD_GRAYSCALE)\n",
    "                new_array = cv2.resize(img_array, (img_size, img_size))\n",
    "                training_data.append([new_array, class_num])\n",
    "            except Exception as e:\n",
    "                print(e)\n",
    "                pass\n",
    "\n",
    "create_training_data() "
   ]
  },
  {
   "cell_type": "code",
   "execution_count": 38,
   "metadata": {},
   "outputs": [],
   "source": [
    "random.shuffle(training_data)\n",
    "x_training = []\n",
    "y_training = []\n",
    "\n",
    "for features, label in training_data:\n",
    "    x_training.append(features)\n",
    "    y_training.append(label)\n",
    "    \n",
    "x_training = np.array(x_training).reshape(-1, img_size, img_size, 1)"
   ]
  },
  {
   "cell_type": "code",
   "execution_count": 44,
   "metadata": {},
   "outputs": [
    {
     "name": "stdout",
     "output_type": "stream",
     "text": [
      "Train on 630 samples, validate on 70 samples\n",
      "Epoch 1/10\n",
      "630/630 [==============================] - 5s 7ms/sample - loss: 0.6933 - acc: 0.4857 - val_loss: 0.6931 - val_acc: 0.4857\n",
      "Epoch 2/10\n",
      "630/630 [==============================] - 4s 7ms/sample - loss: 0.6932 - acc: 0.4746 - val_loss: 0.6932 - val_acc: 0.4857\n",
      "Epoch 3/10\n",
      "630/630 [==============================] - 4s 7ms/sample - loss: 0.6932 - acc: 0.5016 - val_loss: 0.6933 - val_acc: 0.4857\n",
      "Epoch 4/10\n",
      "630/630 [==============================] - 4s 7ms/sample - loss: 0.6932 - acc: 0.5016 - val_loss: 0.6932 - val_acc: 0.4857\n",
      "Epoch 5/10\n",
      "630/630 [==============================] - 4s 7ms/sample - loss: 0.6935 - acc: 0.5016 - val_loss: 0.6935 - val_acc: 0.4857\n",
      "Epoch 6/10\n",
      "630/630 [==============================] - 4s 7ms/sample - loss: 0.6931 - acc: 0.5016 - val_loss: 0.6932 - val_acc: 0.4857\n",
      "Epoch 7/10\n",
      "630/630 [==============================] - 4s 7ms/sample - loss: 0.6933 - acc: 0.4952 - val_loss: 0.6931 - val_acc: 0.5143\n",
      "Epoch 8/10\n",
      "630/630 [==============================] - 4s 7ms/sample - loss: 0.6933 - acc: 0.4730 - val_loss: 0.6932 - val_acc: 0.4857\n",
      "Epoch 9/10\n",
      "630/630 [==============================] - 4s 7ms/sample - loss: 0.6932 - acc: 0.4651 - val_loss: 0.6932 - val_acc: 0.4857\n",
      "Epoch 10/10\n",
      "630/630 [==============================] - 4s 7ms/sample - loss: 0.6932 - acc: 0.5016 - val_loss: 0.6932 - val_acc: 0.4857\n"
     ]
    }
   ],
   "source": [
    "x_training = x_training/255.0\n",
    "\n",
    "model = Sequential()\n",
    "model.add(Flatten(input_shape=x_training.shape[1:]))\n",
    "model.add(Dense(256, activation=\"relu\"))\n",
    "model.add(Dropout(0.2))\n",
    "model.add(Dense(128, activation=\"relu\"))\n",
    "model.add(Dense(64, activation=\"relu\"))\n",
    "model.add(Dense(32, activation=\"relu\"))\n",
    "model.add(Dense(16, activation=\"relu\"))\n",
    "model.add(Dense(8, activation=\"relu\"))\n",
    "model.add(Dense(2, activation=\"softmax\"))\n",
    "\n",
    "#model.compile(loss='binary_crossentropy', optimizer='adam', metrics=['accuracy'])\n",
    "model.compile(optimizer='adam', loss='sparse_categorical_crossentropy', metrics=['accuracy'])\n",
    "historico = model.fit(x_training, y_training, batch_size=16, validation_split=0.1, epochs=10, shuffle=True)\n",
    "model.save('trainingDL.model')"
   ]
  }
 ],
 "metadata": {
  "kernelspec": {
   "display_name": "virtual_env",
   "language": "python",
   "name": "virtual_env"
  },
  "language_info": {
   "codemirror_mode": {
    "name": "ipython",
    "version": 3
   },
   "file_extension": ".py",
   "mimetype": "text/x-python",
   "name": "python",
   "nbconvert_exporter": "python",
   "pygments_lexer": "ipython3",
   "version": "3.7.3"
  }
 },
 "nbformat": 4,
 "nbformat_minor": 2
}
