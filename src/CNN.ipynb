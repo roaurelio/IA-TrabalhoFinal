{
 "cells": [
  {
   "cell_type": "code",
   "execution_count": 1,
   "metadata": {},
   "outputs": [],
   "source": [
    "import numpy as np\n",
    "import os\n",
    "import cv2\n",
    "import random\n",
    "import matplotlib.pyplot as plt\n",
    "from PIL import Image\n",
    "import tensorflow as tf\n",
    "from tensorflow import keras\n",
    "from tensorflow.keras.models import Sequential\n",
    "from tensorflow.keras.layers import Dense, Dropout, Activation, Flatten, Conv2D, MaxPooling2D, BatchNormalization"
   ]
  },
  {
   "cell_type": "code",
   "execution_count": 2,
   "metadata": {},
   "outputs": [],
   "source": [
    "data_dir = r\"..\\datas\\train\"\n",
    "data_dir_test = r\"..\\datas\\test\"\n",
    "categories = [\"fundusImage\",\"other\"]\n",
    "img_size = 128"
   ]
  },
  {
   "cell_type": "code",
   "execution_count": 3,
   "metadata": {},
   "outputs": [],
   "source": [
    "training_data = []\n",
    "\n",
    "def create_training_data():\n",
    "    for category in categories:\n",
    "        path = os.path.join(data_dir, category)\n",
    "        class_num = categories.index(category)\n",
    "        for img in os.listdir(path):\n",
    "            try:\n",
    "                img_array = cv2.imread(os.path.join(path, img), cv2.IMREAD_GRAYSCALE)\n",
    "                new_array = cv2.resize(img_array, (img_size, img_size))\n",
    "                training_data.append([new_array, class_num])\n",
    "            except Exception as e:\n",
    "                print(e)\n",
    "                pass\n",
    "\n",
    "create_training_data()     "
   ]
  },
  {
   "cell_type": "code",
   "execution_count": 4,
   "metadata": {},
   "outputs": [],
   "source": [
    "random.shuffle(training_data)\n",
    "\n",
    "x_training = []\n",
    "y_training = []\n",
    "\n",
    "for features, label in training_data:\n",
    "    x_training.append(features)\n",
    "    y_training.append(label)\n",
    "    \n",
    "x_training = np.array(x_training).reshape(-1, img_size, img_size, 1)"
   ]
  },
  {
   "cell_type": "code",
   "execution_count": 5,
   "metadata": {},
   "outputs": [
    {
     "name": "stdout",
     "output_type": "stream",
     "text": [
      "WARNING:tensorflow:From C:\\ProgramData\\Anaconda3\\lib\\site-packages\\tensorflow\\python\\ops\\init_ops.py:1251: calling VarianceScaling.__init__ (from tensorflow.python.ops.init_ops) with dtype is deprecated and will be removed in a future version.\n",
      "Instructions for updating:\n",
      "Call initializer instance with the dtype argument instead of passing it to the constructor\n",
      "WARNING:tensorflow:From C:\\ProgramData\\Anaconda3\\lib\\site-packages\\tensorflow\\python\\ops\\nn_impl.py:180: add_dispatch_support.<locals>.wrapper (from tensorflow.python.ops.array_ops) is deprecated and will be removed in a future version.\n",
      "Instructions for updating:\n",
      "Use tf.where in 2.0, which has the same broadcast rule as np.where\n",
      "Train on 630 samples, validate on 70 samples\n",
      "Epoch 1/10\n",
      "630/630 [==============================] - 57s 91ms/sample - loss: 0.2160 - acc: 0.9175 - val_loss: 3.4800 - val_acc: 0.4571\n",
      "Epoch 2/10\n",
      "630/630 [==============================] - 57s 91ms/sample - loss: 0.0978 - acc: 0.9730 - val_loss: 3.7504 - val_acc: 0.4571\n",
      "Epoch 3/10\n",
      "630/630 [==============================] - 58s 91ms/sample - loss: 0.0727 - acc: 0.9810 - val_loss: 2.2270 - val_acc: 0.5429\n",
      "Epoch 4/10\n",
      "630/630 [==============================] - 57s 91ms/sample - loss: 0.0858 - acc: 0.9683 - val_loss: 0.9267 - val_acc: 0.5857\n",
      "Epoch 5/10\n",
      "630/630 [==============================] - 57s 90ms/sample - loss: 0.0677 - acc: 0.9762 - val_loss: 0.2393 - val_acc: 0.8857\n",
      "Epoch 6/10\n",
      "630/630 [==============================] - 58s 92ms/sample - loss: 0.0309 - acc: 0.9937 - val_loss: 0.5171 - val_acc: 0.7714\n",
      "Epoch 7/10\n",
      "630/630 [==============================] - 57s 90ms/sample - loss: 0.0042 - acc: 1.0000 - val_loss: 0.4286 - val_acc: 0.8571\n",
      "Epoch 8/10\n",
      "630/630 [==============================] - 57s 91ms/sample - loss: 0.0030 - acc: 0.9984 - val_loss: 0.1411 - val_acc: 0.9429\n",
      "Epoch 9/10\n",
      "630/630 [==============================] - 57s 90ms/sample - loss: 8.4686e-04 - acc: 1.0000 - val_loss: 0.0592 - val_acc: 0.9714\n",
      "Epoch 10/10\n",
      "630/630 [==============================] - 57s 90ms/sample - loss: 7.8600e-04 - acc: 1.0000 - val_loss: 0.0321 - val_acc: 0.9714\n"
     ]
    }
   ],
   "source": [
    "# Training\n",
    "\n",
    "num_epochs = 10\n",
    "batch_size = 14\n",
    "val_split = 0.1\n",
    "adam = keras.optimizers.Adam(lr=0.002)\n",
    "\n",
    "x_training = x_training/255.0\n",
    "\n",
    "model = Sequential()\n",
    "\n",
    "#bloco 1\n",
    "model.add(Conv2D(8, (3,3), activation=\"relu\", input_shape = x_training.shape[1:]))\n",
    "model.add(Conv2D(16, (3,3), activation=\"relu\"))\n",
    "model.add(Conv2D(32, (3,3), activation=\"relu\"))\n",
    "model.add(Conv2D(64, (3,3), activation=\"relu\"))\n",
    "model.add(MaxPooling2D(pool_size=(2,2)))\n",
    "model.add(BatchNormalization())\n",
    "\n",
    "#bloco 2\n",
    "model.add(Conv2D(32, (3,3), activation=\"relu\"))\n",
    "model.add(Conv2D(64, (3,3), activation=\"relu\"))\n",
    "model.add(Conv2D(64, (3,3), activation=\"relu\"))\n",
    "model.add(Conv2D(128, (3,3), activation=\"relu\"))\n",
    "model.add(Dropout(0.2))\n",
    "model.add(MaxPooling2D(pool_size=(2,2)))\n",
    "model.add(BatchNormalization())\n",
    "\n",
    "#bloco 3\n",
    "model.add(Conv2D(64, (3,3), activation=\"relu\"))\n",
    "model.add(Conv2D(32, (3,3), activation=\"relu\"))\n",
    "model.add(Conv2D(16, (3,3), activation=\"relu\"))\n",
    "model.add(Conv2D(8, (3,3), activation=\"relu\"))\n",
    "model.add(MaxPooling2D(pool_size=(2,2)))\n",
    "model.add(BatchNormalization())\n",
    "\n",
    "model.add(Flatten())\n",
    "\n",
    "\n",
    "model.add(Dense(units=64, activation='relu'))\n",
    "model.add(Dropout(0.2))\n",
    "model.add(Dense(units=32, activation='relu'))\n",
    "model.add(Dropout(0.2))\n",
    "model.add(Dense(units=1, activation='sigmoid'))\n",
    "\n",
    "model.compile(loss='binary_crossentropy', optimizer=adam, metrics=['accuracy'])\n",
    "historico = model.fit(x_training, y_training, batch_size=batch_size, validation_split=val_split, epochs=num_epochs, shuffle=True)\n",
    "model.save('trainingCNN.model')"
   ]
  },
  {
   "cell_type": "code",
   "execution_count": 6,
   "metadata": {},
   "outputs": [],
   "source": [
    "test_data = []\n",
    "\n",
    "def create_test_data():\n",
    "    for category in categories:\n",
    "        path = os.path.join(data_dir_test, category)\n",
    "        class_num = categories.index(category)\n",
    "        for img in os.listdir(path):\n",
    "            try:\n",
    "                img_array = cv2.imread(os.path.join(path, img), cv2.IMREAD_GRAYSCALE)\n",
    "                new_array = cv2.resize(img_array, (img_size, img_size))\n",
    "                test_data.append([new_array, class_num])\n",
    "            except Exception as e:\n",
    "                pass\n",
    "\n",
    "create_test_data()  "
   ]
  },
  {
   "cell_type": "code",
   "execution_count": 8,
   "metadata": {},
   "outputs": [
    {
     "name": "stdout",
     "output_type": "stream",
     "text": [
      "300/300 [==============================] - 3s 10ms/sample - loss: 131.5802 - acc: 0.5767\n"
     ]
    }
   ],
   "source": [
    "random.shuffle(test_data)\n",
    "\n",
    "x_test = []\n",
    "y_test = []\n",
    "\n",
    "for features, label in test_data:\n",
    "    x_test.append(features)\n",
    "    y_test.append(label)\n",
    "    \n",
    "x_test = np.array(x_test).reshape(-1, img_size, img_size, 1)\n",
    "prediction = model.predict(x_test)\n",
    "perda, acuracia = model.evaluate(x_test, y_test)"
   ]
  },
  {
   "cell_type": "code",
   "execution_count": null,
   "metadata": {},
   "outputs": [],
   "source": [
    "print('Resultado teste:', np.argmax(prediction[10]))\n",
    "print('Número da imagem de teste:', y_test[10])\n",
    "plt.imshow(test_data[10][0])"
   ]
  },
  {
   "cell_type": "code",
   "execution_count": 9,
   "metadata": {},
   "outputs": [
    {
     "data": {
      "text/plain": [
       "<matplotlib.legend.Legend at 0x20ccf7b23c8>"
      ]
     },
     "execution_count": 9,
     "metadata": {},
     "output_type": "execute_result"
    },
    {
     "data": {
      "image/png": "[encoded data removed]",
      "text/plain": [
       "<Figure size 432x288 with 1 Axes>"
      ]
     },
     "metadata": {
      "needs_background": "light"
     },
     "output_type": "display_data"
    }
   ],
   "source": [
    "plt.plot(historico.history['acc'])\n",
    "plt.plot(historico.history['val_acc'])\n",
    "plt.title('Acurácia por épocas')\n",
    "plt.xlabel('épocas')\n",
    "plt.ylabel('acurácia')\n",
    "plt.legend(['treino', 'validação'])"
   ]
  },
  {
   "cell_type": "code",
   "execution_count": 10,
   "metadata": {},
   "outputs": [
    {
     "data": {
      "text/plain": [
       "<matplotlib.legend.Legend at 0x20ccf842400>"
      ]
     },
     "execution_count": 10,
     "metadata": {},
     "output_type": "execute_result"
    },
    {
     "data": {
      "image/png": "[encoded data removed]",
      "text/plain": [
       "<Figure size 432x288 with 1 Axes>"
      ]
     },
     "metadata": {
      "needs_background": "light"
     },
     "output_type": "display_data"
    }
   ],
   "source": [
    "plt.plot(historico.history['loss'])\n",
    "plt.plot(historico.history['val_loss'])\n",
    "plt.title('Perda por épocas')\n",
    "plt.xlabel('épocas')\n",
    "plt.ylabel('perda')\n",
    "plt.legend(['treino', 'validação'])"
   ]
  }
 ],
 "metadata": {
  "kernelspec": {
   "display_name": "virtual_env",
   "language": "python",
   "name": "virtual_env"
  },
  "language_info": {
   "codemirror_mode": {
    "name": "ipython",
    "version": 3
   },
   "file_extension": ".py",
   "mimetype": "text/x-python",
   "name": "python",
   "nbconvert_exporter": "python",
   "pygments_lexer": "ipython3",
   "version": "3.7.3"
  }
 },
 "nbformat": 4,
 "nbformat_minor": 2
}
